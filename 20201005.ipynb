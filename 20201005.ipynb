{
 "cells": [
  {
   "cell_type": "code",
   "execution_count": 37,
   "metadata": {},
   "outputs": [
    {
     "name": "stdout",
     "output_type": "stream",
     "text": [
      "5\n",
      "R R R U D D\n",
      "( 1 X 1 )( 1 X 2 )( 1 X 3 )( 1 X 4 )( 1 X 5 )\n",
      "( 2 X 1 )( 2 X 2 )( 2 X 3 )( 2 X 4 )( 2 X 5 )\n",
      "( 3 X 1 )( 3 X 2 )( 3 X 3 )( 3 X 4 )( 3 X 5 )\n",
      "( 4 X 1 )( 4 X 2 )( 4 X 3 )( 4 X 4 )( 4 X 5 )\n",
      "( 5 X 1 )( 5 X 2 )( 5 X 3 )( 5 X 4 )( 5 X 5 )\n",
      "3 4\n"
     ]
    }
   ],
   "source": [
    "n = int(input())\n",
    "move_data = input().split()\n",
    "dx = [0, 0, -1, 1] #L R U D 순서\n",
    "dy = [-1, 1, 0, 0] #L R U D 순서\n",
    "x, y = 1, 1\n",
    "\n",
    "for i in range(1,n+1):\n",
    "    for j in range(1,n+1):\n",
    "        print('(', i, \"X\", j, ')', end='')\n",
    "    print()\n",
    "\n",
    "cnt = len(move_data)   \n",
    "\n",
    "for i in range(cnt):\n",
    "    if move_data[i]=='L':\n",
    "        x = x + dx[0]\n",
    "        y = y + dy[0]\n",
    "        \n",
    "        if y<1:\n",
    "            y = y - dy[0]\n",
    "        \n",
    "    elif move_data[i]=='R':\n",
    "        x = x + dx[1]\n",
    "        y = y + dy[1]\n",
    "        \n",
    "        if y>n:\n",
    "            y = y - dy[1]\n",
    "        \n",
    "    elif move_data[i]=='U':      \n",
    "        x = x + dx[2]\n",
    "        y = y + dy[2]\n",
    "        \n",
    "        if(x<=0):\n",
    "            x = x - dx[2]\n",
    "\n",
    "    else:\n",
    "        x = x + dx[3]\n",
    "        y = y + dy[3]\n",
    "        \n",
    "        if(x>n):\n",
    "            x = x - dx[3]\n",
    "        \n",
    "print(x, y)"
   ]
  },
  {
   "cell_type": "markdown",
   "metadata": {},
   "source": []
  }
 ],
 "metadata": {
  "kernelspec": {
   "display_name": "Python 3",
   "language": "python",
   "name": "python3"
  },
  "language_info": {
   "codemirror_mode": {
    "name": "ipython",
    "version": 3
   },
   "file_extension": ".py",
   "mimetype": "text/x-python",
   "name": "python",
   "nbconvert_exporter": "python",
   "pygments_lexer": "ipython3",
   "version": "3.8.3"
  }
 },
 "nbformat": 4,
 "nbformat_minor": 4
}
